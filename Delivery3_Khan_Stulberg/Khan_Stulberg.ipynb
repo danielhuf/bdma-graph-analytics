{
  "cells": [
    {
      "cell_type": "markdown",
      "metadata": {
        "id": "GSUv7n9fkjjg"
      },
      "source": [
        "<center><img src='./figs/cs-logo.png' width=200></center>"
      ]
    },
    {
      "cell_type": "markdown",
      "metadata": {
        "id": "QVHsElYNkjjj"
      },
      "source": [
        "# 1. Introduction\n",
        "\n",
        "\n",
        "<p align=\"justify\">\n",
        "<font size=\"3\">\n",
        "In this lab assignment you'll deepen your Spark programming skills by implementing algorithms that apply computations on matrices.\n",
        "One interesting application of matrix computation is **PageRank**, the algorithm that Google uses to assign an importance score to each Web page; based on this score, the Google search engine ranks by importance the Web pages matching a particular search.\n",
        "</font>\n",
        "</p>\n",
        "\n",
        "<p align=\"justify\">\n",
        "<hr style=\" border:none; height:2px;\">\n",
        " <font  size=\"3\" color='#91053d'>**Execute the following cell in order to initialize the _SparkContext_.**</font>\n",
        "<hr style=\" border:none; height:2px;\">\n",
        "</p>"
      ]
    },
    {
      "cell_type": "code",
      "source": [
        "!pip install findspark\n",
        "!pip install pyspark"
      ],
      "metadata": {
        "colab": {
          "base_uri": "https://localhost:8080/"
        },
        "id": "wlzdwvBFmAS-",
        "outputId": "5cff1c61-7382-4ee5-e0e2-2f3786ef96b0"
      },
      "execution_count": 1,
      "outputs": [
        {
          "output_type": "stream",
          "name": "stdout",
          "text": [
            "Collecting findspark\n",
            "  Downloading findspark-2.0.1-py2.py3-none-any.whl (4.4 kB)\n",
            "Installing collected packages: findspark\n",
            "Successfully installed findspark-2.0.1\n",
            "Collecting pyspark\n",
            "  Downloading pyspark-3.5.0.tar.gz (316.9 MB)\n",
            "\u001b[2K     \u001b[90m━━━━━━━━━━━━━━━━━━━━━━━━━━━━━━━━━━━━━━━━\u001b[0m \u001b[32m316.9/316.9 MB\u001b[0m \u001b[31m4.1 MB/s\u001b[0m eta \u001b[36m0:00:00\u001b[0m\n",
            "\u001b[?25h  Preparing metadata (setup.py) ... \u001b[?25l\u001b[?25hdone\n",
            "Requirement already satisfied: py4j==0.10.9.7 in /usr/local/lib/python3.10/dist-packages (from pyspark) (0.10.9.7)\n",
            "Building wheels for collected packages: pyspark\n",
            "  Building wheel for pyspark (setup.py) ... \u001b[?25l\u001b[?25hdone\n",
            "  Created wheel for pyspark: filename=pyspark-3.5.0-py2.py3-none-any.whl size=317425345 sha256=ab0cf2a71e3d717b44f794e5879b0a06cbcc8af4b538899e663129881869e248\n",
            "  Stored in directory: /root/.cache/pip/wheels/41/4e/10/c2cf2467f71c678cfc8a6b9ac9241e5e44a01940da8fbb17fc\n",
            "Successfully built pyspark\n",
            "Installing collected packages: pyspark\n",
            "Successfully installed pyspark-3.5.0\n"
          ]
        }
      ]
    },
    {
      "cell_type": "code",
      "execution_count": 63,
      "metadata": {
        "colab": {
          "base_uri": "https://localhost:8080/",
          "height": 269
        },
        "id": "mD8y9luhkjjk",
        "outputId": "cfda50a2-78ac-461b-fd25-6c015f4e5b67"
      },
      "outputs": [
        {
          "output_type": "error",
          "ename": "ValueError",
          "evalue": "Cannot run multiple SparkContexts at once; existing SparkContext(app=lab2, master=local[*]) created by __init__ at <ipython-input-2-e8484fb12100>:6 ",
          "traceback": [
            "\u001b[0;31m---------------------------------------------------------------------------\u001b[0m",
            "\u001b[0;31mValueError\u001b[0m                                Traceback (most recent call last)",
            "\u001b[0;32m<ipython-input-63-e8484fb12100>\u001b[0m in \u001b[0;36m<cell line: 6>\u001b[0;34m()\u001b[0m\n\u001b[1;32m      4\u001b[0m \u001b[0;32mimport\u001b[0m \u001b[0mpyspark\u001b[0m\u001b[0;34m\u001b[0m\u001b[0;34m\u001b[0m\u001b[0m\n\u001b[1;32m      5\u001b[0m \u001b[0;32mimport\u001b[0m \u001b[0mrandom\u001b[0m\u001b[0;34m\u001b[0m\u001b[0;34m\u001b[0m\u001b[0m\n\u001b[0;32m----> 6\u001b[0;31m \u001b[0msc\u001b[0m \u001b[0;34m=\u001b[0m \u001b[0mpyspark\u001b[0m\u001b[0;34m.\u001b[0m\u001b[0mSparkContext\u001b[0m\u001b[0;34m(\u001b[0m\u001b[0mappName\u001b[0m\u001b[0;34m=\u001b[0m\u001b[0;34m\"lab2\"\u001b[0m\u001b[0;34m)\u001b[0m\u001b[0;34m\u001b[0m\u001b[0;34m\u001b[0m\u001b[0m\n\u001b[0m\u001b[1;32m      7\u001b[0m \u001b[0mprint\u001b[0m\u001b[0;34m(\u001b[0m\u001b[0;34m\"Initialization successful\"\u001b[0m\u001b[0;34m)\u001b[0m\u001b[0;34m\u001b[0m\u001b[0;34m\u001b[0m\u001b[0m\n",
            "\u001b[0;32m/usr/local/lib/python3.10/dist-packages/pyspark/context.py\u001b[0m in \u001b[0;36m__init__\u001b[0;34m(self, master, appName, sparkHome, pyFiles, environment, batchSize, serializer, conf, gateway, jsc, profiler_cls, udf_profiler_cls, memory_profiler_cls)\u001b[0m\n\u001b[1;32m    199\u001b[0m             )\n\u001b[1;32m    200\u001b[0m \u001b[0;34m\u001b[0m\u001b[0m\n\u001b[0;32m--> 201\u001b[0;31m         \u001b[0mSparkContext\u001b[0m\u001b[0;34m.\u001b[0m\u001b[0m_ensure_initialized\u001b[0m\u001b[0;34m(\u001b[0m\u001b[0mself\u001b[0m\u001b[0;34m,\u001b[0m \u001b[0mgateway\u001b[0m\u001b[0;34m=\u001b[0m\u001b[0mgateway\u001b[0m\u001b[0;34m,\u001b[0m \u001b[0mconf\u001b[0m\u001b[0;34m=\u001b[0m\u001b[0mconf\u001b[0m\u001b[0;34m)\u001b[0m\u001b[0;34m\u001b[0m\u001b[0;34m\u001b[0m\u001b[0m\n\u001b[0m\u001b[1;32m    202\u001b[0m         \u001b[0;32mtry\u001b[0m\u001b[0;34m:\u001b[0m\u001b[0;34m\u001b[0m\u001b[0;34m\u001b[0m\u001b[0m\n\u001b[1;32m    203\u001b[0m             self._do_init(\n",
            "\u001b[0;32m/usr/local/lib/python3.10/dist-packages/pyspark/context.py\u001b[0m in \u001b[0;36m_ensure_initialized\u001b[0;34m(cls, instance, gateway, conf)\u001b[0m\n\u001b[1;32m    447\u001b[0m \u001b[0;34m\u001b[0m\u001b[0m\n\u001b[1;32m    448\u001b[0m                     \u001b[0;31m# Raise error if there is already a running Spark context\u001b[0m\u001b[0;34m\u001b[0m\u001b[0;34m\u001b[0m\u001b[0m\n\u001b[0;32m--> 449\u001b[0;31m                     raise ValueError(\n\u001b[0m\u001b[1;32m    450\u001b[0m                         \u001b[0;34m\"Cannot run multiple SparkContexts at once; \"\u001b[0m\u001b[0;34m\u001b[0m\u001b[0;34m\u001b[0m\u001b[0m\n\u001b[1;32m    451\u001b[0m                         \u001b[0;34m\"existing SparkContext(app=%s, master=%s)\"\u001b[0m\u001b[0;34m\u001b[0m\u001b[0;34m\u001b[0m\u001b[0m\n",
            "\u001b[0;31mValueError\u001b[0m: Cannot run multiple SparkContexts at once; existing SparkContext(app=lab2, master=local[*]) created by __init__ at <ipython-input-2-e8484fb12100>:6 "
          ]
        }
      ],
      "source": [
        "import findspark\n",
        "findspark.init()\n",
        "\n",
        "import pyspark\n",
        "import random\n",
        "sc = pyspark.SparkContext(appName=\"lab2\")\n",
        "print(\"Initialization successful\")"
      ]
    },
    {
      "cell_type": "markdown",
      "metadata": {
        "id": "s7-Xgqxpkjjl"
      },
      "source": [
        "# 2. Matrix Representation\n",
        "\n",
        "<p align=\"justify\">\n",
        "<font size=\"3\">\n",
        "**Please read carefully this section that presents how matrices will be represented in this assignment.**\n",
        "</font>\n",
        "</p>\n",
        "\n",
        "<p align=\"justify\">\n",
        "<font size=\"3\">\n",
        "Without loss of generality, we consider that our input matrices are stored\n",
        "in textual files (see folder _./data_).\n",
        "As an example, the file _./data/matrix-a.txt_ looks like as follows:\n",
        "<p>\n",
        "0 1 2 4<br>\n",
        "1 2 3 10<br>\n",
        "2 12 15 150<br>\n",
        "</p>\n",
        "</font>\n",
        "</p>\n",
        "<p>\n",
        "<font size=\"3\">\n",
        "Each line is a row in a matrix $A$. The first number of the line is the\n",
        "row identifier (starting from 0), the subsequent values (separated by a whitespace)\n",
        "are the elements in each column of the row. The matrix represented in this file is the\n",
        "following:\n",
        "<p>\n",
        "<center>\n",
        "  $A= \\begin{bmatrix}\n",
        "    1 & 2 & 4   \\\\\n",
        "    2 & 3 & 10  \\\\\n",
        "    12 & 15 & 150\n",
        "\\end{bmatrix}$\n",
        "</center>\n",
        "</font>\n",
        "</p>\n",
        "\n",
        "\n",
        "<p>\n",
        "<font size=\"3\">\n",
        "We provide the implementation of  basic functions to load a matrix from file, visualize it\n",
        "and get attributes.\n",
        "</font>\n",
        "</p>\n",
        "\n",
        "## 2.1 Function $loadMatrix$\n",
        "\n",
        "<p>\n",
        "<font size=\"3\">\n",
        "The function $loadMatrix()$ loads a matrix from a file.\n",
        "It takes in the name of the file and returns an RDD containing the matrix.\n",
        "\n",
        "Each element of an RDD matrix is a key-value pair, where the key is the coordinate (row identifier, column identifier) of an element, and the value is the element itself.\n",
        "For instance, the RDD corresponding to the matrix $A$ is the following:\n",
        "<p>\n",
        "$( (0, 0), 1 ), ( (0, 1), 2 ), ( (0, 2), 4 ), ( (1, 0), 2 ), ( (1, 1), 3 ), ( (1, 2), 10 ), ( (2, 0), 12 ), ( (2, 1), 15 ), ( (2, 2), 150 ) $\n",
        "</p>\n",
        "</font>\n",
        "</p>\n",
        "\n",
        "## 2.2 Function $shape$\n",
        "\n",
        "<p>\n",
        "<font size=\"3\">\n",
        "The function $shape()$ takes in an RDD matrix and returns the size of the matrix as a pair $(nbRows, nbCols)$, where $nbRows$ (resp., $nbCols$) denotes the number of rows (resp., columns) of the matrix.\n",
        "</font>\n",
        "</p>\n",
        "\n",
        "## 2.3 Function $collect$\n",
        "\n",
        "<p>\n",
        "<font size=\"3\">\n",
        "The function $collect()$ takes in an RDD matrix and returns a representation of the matrix as a Python list $L$. Each element of $L$ is itself a list that corresponds to a row in the matrix.\n",
        "For instance, the output of the function $collect$ for the matrix $A$ is as follows:   \n",
        "\n",
        "<p>\n",
        "\n",
        "$[ [1, 2, 4], [2, 3, 10], [12, 15, 150] ]$\n",
        "\n",
        "</p>\n",
        "\n",
        "</font>\n",
        "</p>\n",
        "\n",
        "\n",
        "## 2.3 Function $nice$\n",
        "\n",
        "<p>\n",
        "<font size=\"3\">\n",
        "The function $nice()$ prints the matrix in a nice and readable way.\n",
        "</font>\n",
        "</p>\n",
        "\n",
        "<p align=\"justify\">\n",
        "<hr style=\" border:none; height:2px;\">\n",
        " <font  size=\"3\" color='#91053d'>**Execute the following cell in order to initialize the definition of the functions**</font>\n",
        "<hr style=\" border:none; height:2px;\">\n",
        "</p>"
      ]
    },
    {
      "cell_type": "code",
      "execution_count": 64,
      "metadata": {
        "id": "g6DQ2-THkjjm"
      },
      "outputs": [],
      "source": [
        "'''\n",
        "Loads a matrix from a file.\n",
        "Takes in: the name of the input file\n",
        "Returns: an RDD containing the matrix\n",
        "'''\n",
        "def loadMatrix(filename):\n",
        "    # Load the file into an RDD matrix\n",
        "    matrix = sc.textFile(filename)\n",
        "    # Splits each line. Each element is a list [nbRow, e1, e2, ..., ej]\n",
        "    matrix = matrix.map(lambda line : line.split(' '))\n",
        "    # Convert each element to a number (the first is an integer, the others are float)\n",
        "    matrix = matrix.map(lambda row: [int(row[0])] + [float(row[i]) for i in range(1, len(row))])\n",
        "    # Get an RDD where each element is a key-value pair ((row, col), element)\n",
        "    matrix = matrix.flatMap(lambda row: [((row[0], j-1), row[j]) for j in range(1, len(row))])\n",
        "    return matrix\n",
        "\n",
        "'''\n",
        "Returns the number of rows and colums of the matrix\n",
        "Takes in: An RDD representing a matrix\n",
        "Returns: the size of the matrix as (nbRows, nbCols)\n",
        "'''\n",
        "def shape(matrix):\n",
        "    M = collect(matrix)\n",
        "    if len(M) == 0:\n",
        "        return (0, 0)\n",
        "    else:\n",
        "        return (len(M), len(M[0]))\n",
        "\n",
        "'''\n",
        "Returns a matrix represented as a list of lists.\n",
        "Takes in: an RDD representing a matrix\n",
        "Returns: the matrix represented as a list of lists.\n",
        "'''\n",
        "def collect(matrix):\n",
        "    # Obtain an RDD, where the key is the row identifier and the value is (colId, element)\n",
        "    matrix = matrix.map(lambda x: (x[0][0], (x[0][1], x[1])))\n",
        "    # Groups all the values in a row.\n",
        "    matrix = matrix.groupByKey()\n",
        "    # Sorts the element by row identifier.\n",
        "    matrix = matrix.sortByKey()\n",
        "    # Sort the elements by column identifier.\n",
        "    matrix = matrix.map(lambda x: sorted(list(x[1])))\n",
        "    # Now obtain an RDD, where each element is a list containing the elements of a row.\n",
        "    matrix = matrix.map(lambda row: [x[1] for x in row])\n",
        "    # Finally, return the RDD as a Python list.\n",
        "    return matrix.collect()\n",
        "\n",
        "'''\n",
        "Prints the matrix in a nice way.\n",
        "Takes in: the name of the matrix (var) and the matrix in the form of an RDD.\n",
        "'''\n",
        "def nice(var, matrix):\n",
        "    # Obtain a representation of the matrix as a Python list.\n",
        "    M = collect(matrix)\n",
        "    # Print the name of the matrix\n",
        "    print(\"Matrix \", var)\n",
        "    # Print the matrix and format the output nicely\n",
        "    print('\\n'.join([''.join(['{:12.2f}'.format(item) for item in row])\n",
        "      for row in M]))\n"
      ]
    },
    {
      "cell_type": "markdown",
      "metadata": {
        "id": "L24ItGBtkjjn"
      },
      "source": [
        "# 3. Matrix Addition\n",
        "\n",
        "<p align=\"justify\">\n",
        "<font size=\"3\">\n",
        "The code below loads two matrices $A$ and $B$ from file and calls the function $sum()$ to compute $A+B$.\n",
        "</font>\n",
        "</p>\n",
        "\n",
        "<p>\n",
        "<font size=\"3\">\n",
        "The function $sum()$ takes in:\n",
        "<ul>\n",
        "<li> $A$: an RDD containing the first matrix.\n",
        "<li> $B$: an RDD containing the second matrix.\n",
        "</ul>\n",
        "The function $sum()$ returns an RDD containing the matrix obtained by summing $A$ and $B$.\n",
        "</font>\n",
        "</p>\n",
        "\n",
        "<p align=\"justify\">\n",
        "<hr style=\" border:none; height:2px;\">\n",
        " <font  size=\"3\" color='#91053d'>**Complete the definition of the function $sum()$ and execute the code**</font>\n",
        "<hr style=\" border:none; height:2px;\">\n",
        "</p>\n",
        "\n"
      ]
    },
    {
      "cell_type": "code",
      "execution_count": 65,
      "metadata": {
        "colab": {
          "base_uri": "https://localhost:8080/"
        },
        "id": "FV9yx18Jkjjo",
        "outputId": "b9e21a00-c53a-47ef-c0e2-cdd0a6988731"
      },
      "outputs": [
        {
          "output_type": "stream",
          "name": "stdout",
          "text": [
            "Matrix  A\n",
            "        1.00        2.00        4.00\n",
            "        2.00        3.00       10.00\n",
            "       12.00       15.00      150.00\n",
            "Matrix  B\n",
            "        4.00        2.00        2.00      324.00       23.00\n",
            "        1.00        3.00        3.00      333.00      423.00\n",
            "       23.00       34.00       12.00       12.00        0.00\n",
            "Matrix  C\n",
            "        5.00        4.00        6.00      324.00       23.00\n",
            "        3.00        6.00       13.00      333.00      423.00\n",
            "       35.00       49.00      162.00       12.00        0.00\n"
          ]
        }
      ],
      "source": [
        "'''\n",
        "Computes the sum of two matrices.\n",
        "Takes in: two RDDs containing the input matrices\n",
        "Returns: the RDD containing the sum of the two input matrices\n",
        "'''\n",
        "def sum(A, B):\n",
        "\n",
        "    ################## COMPLETE HERE FOLLOWING THE INSTRUCTIONS ##################\n",
        "\n",
        "    # Each element of the RDD A and B is ((r,c), e), where e is an element of the matrix and (r, c) is the\n",
        "    # coordinate of the element in terms of row and column.\n",
        "\n",
        "    # 1. Put the two RDDs A and B together. Use the transformation union. Remember that a transformation\n",
        "    # always returns a new RDD with the result of the transformation.\n",
        "    C = A.union(B)\n",
        "\n",
        "    #2. Transforms the RDD C into one where the values having the same key (i.e., same row and column)\n",
        "    # are summed together. Which transformation are you going to use on C?\n",
        "    C = C.reduceByKey(lambda x, y: x + y)\n",
        "    # We return the RDD containing the sum of the two input matrices\n",
        "    return C\n",
        "\n",
        "    ################## END OF MODIFICATIONS ##################\n",
        "\n",
        "# Load matrix A from file and print it.\n",
        "A = loadMatrix(\"./data/matrix-a.txt\")\n",
        "nice(\"A\", A)\n",
        "\n",
        "# Load matrix B from file and print it.\n",
        "B = loadMatrix(\"./data/matrix-b.txt\")\n",
        "nice(\"B\", B)\n",
        "\n",
        "# Compute A+B and print it\n",
        "C = sum(A, B)\n",
        "nice(\"C\", C)\n",
        "\n",
        "##############################################################\n",
        "#YOU SHOULD OBTAIN THE FOLLOWING MATRIX C AS RESULT\n",
        "# 5.00        4.00        6.00      324.00       23.00\n",
        "# 3.00        6.00       13.00      333.00      423.00\n",
        "# 35.00       49.00      162.00       12.00        0.00\n",
        "##############################################################\n"
      ]
    },
    {
      "cell_type": "markdown",
      "metadata": {
        "id": "mEX5sxHrkjjp"
      },
      "source": [
        "# 4. Scalar Multiplication\n",
        "\n",
        "<p>\n",
        "<font size=\"3\">\n",
        "The code below calls the function $scalarMultiply()$ to obtain the matrix $c\\times A$, where $c$ is a scalar value.    \n",
        "</font>\n",
        "</p>\n",
        "\n",
        "<p>\n",
        "<font size=\"3\">\n",
        "The function $scalarMultiply()$ takes in:\n",
        "<ul>\n",
        "<li> $c$: a scalar value.\n",
        "<li> $M$: an RDD containing a matrix.\n",
        "</ul>\n",
        "The function $scalarMultiply()$ returns an RDD containing the matrix obtained by multiplying $c$ with the input matrix.\n",
        "</font>\n",
        "</p>\n",
        "\n",
        "\n",
        "<p align=\"justify\">\n",
        "<hr style=\" border:none; height:2px;\">\n",
        " <font  size=\"3\" color='#91053d'>**Complete the definition of the function $scalarMultiply()$ and execute the code**</font>\n",
        "<hr style=\" border:none; height:2px;\">\n",
        "</p>\n",
        "\n"
      ]
    },
    {
      "cell_type": "code",
      "execution_count": 66,
      "metadata": {
        "id": "-iOcAD8Wkjjp",
        "colab": {
          "base_uri": "https://localhost:8080/"
        },
        "outputId": "fdb5ba2b-3ae2-4ffa-ac46-bf917434e3b3"
      },
      "outputs": [
        {
          "output_type": "stream",
          "name": "stdout",
          "text": [
            "Matrix  A\n",
            "        1.00        2.00        4.00\n",
            "        2.00        3.00       10.00\n",
            "       12.00       15.00      150.00\n",
            "Matrix  2*A\n",
            "        2.00        4.00        8.00\n",
            "        4.00        6.00       20.00\n",
            "       24.00       30.00      300.00\n"
          ]
        }
      ],
      "source": [
        "'''\n",
        "Computes the scalar multiplication.\n",
        "Takes in a scalar value c and an RDD matrix M\n",
        "Returns the RDD containing the matrix resulting from the scalar multiplication c * M.\n",
        "'''\n",
        "def scalarMultiply(c, M):\n",
        "\n",
        "    ################## COMPLETE HERE FOLLOWING THE INSTRUCTIONS ##################\n",
        "\n",
        "    # Apply a transformation on M, so each element of the matrix M is multiplied by c\n",
        "    # Which transformation are you going to use?\n",
        "    R = M.map(lambda x: (x[0], c * x[1]))\n",
        "\n",
        "    return R\n",
        "    ################## END MODIFICATION ##################\n",
        "\n",
        "\n",
        "# Prints\n",
        "nice(\"A\", A)\n",
        "nice(\"2*A\", scalarMultiply(2, A))\n",
        "\n",
        "##############################################################\n",
        "# THE RESULT SHOULD BE\n",
        "#2.00        4.00        8.00\n",
        "#4.00        6.00       20.00\n",
        "#24.00       30.00      300.00\n",
        "##############################################################"
      ]
    },
    {
      "cell_type": "markdown",
      "metadata": {
        "id": "nn9xN4VKkjjq"
      },
      "source": [
        "# 5. Matrix Multiplication\n",
        "\n",
        "\n",
        "<p>\n",
        "<font size=\"3\">\n",
        "We want to implement a function $multiply()$ to obtain the matrix $A \\times B$.\n",
        "</font>\n",
        "</p>\n",
        "\n",
        "<p>\n",
        "<font size=\"3\">\n",
        "The function $multiply()$ takes in:\n",
        "<ul>\n",
        "<li> $A$: an RDD containing the first matrix.\n",
        "<li> $B$: an RDD containing the second matrix.\n",
        "</ul>\n",
        "The function $multiply$ returns an RDD containing the matrix obtained by multiplying the first and the second matrix.\n",
        "The multiplication can only be computed if the number of columns of $A$ equals the number of rows of $B$.\n",
        "</font>\n",
        "</p>\n",
        "\n",
        "\n",
        "<p>\n",
        "<font size=\"3\">\n",
        "Let $A$ be an $n \\times m$ matrix and $B$ an $m \\times p$ matrix.\n",
        "The matrix $C = A \\times B$ is a $n \\times p$ matrix, where each element $c_{i, k}$ is computed as\n",
        "follows:\n",
        "<center>\n",
        "  $c_{i, k} = \\sum\\limits_{j=0}^{m-1} a_{i, j} \\cdot b_{j, k} \\quad\\quad (1)$\n",
        "</center>\n",
        "</font>\n",
        "</p>\n",
        "\n",
        "\n",
        "<p>\n",
        "<font size=\"3\">\n",
        "One possible implementation of this function is based on a MapReduce schema.\n",
        "Remember that in a MapReduce schema, the idea is to group elements by a key and apply a function to the elements\n",
        "that share the same key.\n",
        "As you can see, for a given $(i, k)$, the element of $A$ that is in the j-th column is multiplied by the value of $B$ that is in the j-th row, for any column $j$.\n",
        "Therefore, we can change the representation of $A$ and $B$ so that their elements are indexed by using $j$ as the key.\n",
        "</font>\n",
        "</p>\n",
        "\n",
        "<p>\n",
        "<font size=\"3\">\n",
        "More specifically, we can represent the matrix $A$ as follows:\n",
        "<center>    \n",
        "    $(j, (0, i, a_{i, j})) \\quad 0 \\leq i \\leq n-1 \\quad 0 \\leq j \\leq m-1  \\quad\\quad (2)$\n",
        "</center>    \n",
        "where the value $0$ in the triple $(0, i, a_{i, j})$ means that the element $a_{i, j}$ comes from the matrix $A$.\n",
        "</font>\n",
        "</p>\n",
        "\n",
        "\n",
        "<p>\n",
        "<font size=\"3\">\n",
        "Similarly, we can represent the matrix $B$ as follows:\n",
        "<center>    \n",
        "    $(j, (1, k, b_{j, k})) \\quad 0 \\leq j \\leq m-1 \\quad 0 \\leq k \\leq p-1 \\quad\\quad (3) $\n",
        "</center>    \n",
        "where the value $1$ in the triple $(1, k, b_{j, k})$ means that the element $b_{j, k}$ comes from the matrix $B$.\n",
        "</font>\n",
        "</p>\n",
        "\n",
        "<p>\n",
        "<font size=\"3\">\n",
        "As a first step, we want to code two functions $transformA()$ and $transformB()$ to obtain the two representations of $A$ and $B$ respectively, as described in Equation (2) and (3).\n",
        "The two representations returned by both functions **must be RDDs**.\n",
        "</font>\n",
        "</p>\n",
        "\n",
        "\n",
        "<p align=\"justify\">\n",
        "<hr style=\" border:none; height:2px;\">\n",
        " <font  size=\"3\" color='#91053d'>**Complete the definition of the functions $transformA()$ and $transformB()$ and execute the code**</font>\n",
        "<hr style=\" border:none; height:2px;\">\n",
        "</p>\n",
        "\n"
      ]
    },
    {
      "cell_type": "code",
      "execution_count": 67,
      "metadata": {
        "id": "1vBulUu2kjjr",
        "colab": {
          "base_uri": "https://localhost:8080/"
        },
        "outputId": "2dfbfe4f-a09e-4fe5-d484-703e9a501cfa"
      },
      "outputs": [
        {
          "output_type": "stream",
          "name": "stdout",
          "text": [
            "Matrix  A\n",
            "        1.00        2.00        4.00\n",
            "        2.00        3.00       10.00\n",
            "       12.00       15.00      150.00\n",
            "Matrix  B\n",
            "        4.00        2.00        2.00      324.00       23.00\n",
            "        1.00        3.00        3.00      333.00      423.00\n",
            "       23.00       34.00       12.00       12.00        0.00\n",
            "\n",
            "********** Representation for A ************\n",
            "\n",
            "[(0, (0, 0, 1.0)), (1, (0, 0, 2.0)), (2, (0, 0, 4.0)), (0, (0, 1, 2.0)), (1, (0, 1, 3.0)), (2, (0, 1, 10.0)), (0, (0, 2, 12.0)), (1, (0, 2, 15.0)), (2, (0, 2, 150.0))]\n",
            "\n",
            "********** Representation for B ************\n",
            "\n",
            "[(0, (1, 0, 4.0)), (0, (1, 1, 2.0)), (0, (1, 2, 2.0)), (0, (1, 3, 324.0)), (0, (1, 4, 23.0)), (1, (1, 0, 1.0)), (1, (1, 1, 3.0)), (1, (1, 2, 3.0)), (1, (1, 3, 333.0)), (1, (1, 4, 423.0)), (2, (1, 0, 23.0)), (2, (1, 1, 34.0)), (2, (1, 2, 12.0)), (2, (1, 3, 12.0)), (2, (1, 4, 0.0))]\n"
          ]
        }
      ],
      "source": [
        "################## COMPLETE HERE FOLLOWING THE INSTRUCTIONS ##################\n",
        "\n",
        "'''\n",
        "Transforms the RDD matrix A into an RDD as described in Equation (2)\n",
        "'''\n",
        "def transformA(A):\n",
        "    # Transform A as indicated in the text above\n",
        "    A = A.map(lambda x: (x[0][1], (0, x[0][0], x[1])))\n",
        "    return A\n",
        "\n",
        "'''\n",
        "Transforms the RDD matrix B into an RDD as described in Equation (3)\n",
        "'''\n",
        "def transformB(B):\n",
        "    # Transform B as indicated in the text above\n",
        "    B = B.map(lambda x: (x[0][0], (1, x[0][1], x[1])))\n",
        "    return B\n",
        "\n",
        "################## END MODIFICATIONS ##################\n",
        "\n",
        "# Displayes the two matrices\n",
        "nice(\"A\", A)\n",
        "nice(\"B\", B)\n",
        "\n",
        "# Transforms them\n",
        "Atransformed = transformA(A)\n",
        "Btransformed = transformB(B)\n",
        "\n",
        "# Display the result.\n",
        "print(\"\\n********** Representation for A ************\\n\")\n",
        "print(Atransformed.collect())\n",
        "print(\"\\n********** Representation for B ************\\n\")\n",
        "print(Btransformed.collect())\n"
      ]
    },
    {
      "cell_type": "markdown",
      "metadata": {
        "id": "9O9IVHPhkjjr"
      },
      "source": [
        "<p>\n",
        "<font size=\"3\">\n",
        "In order to group all the elements of both matrices by the key $j$, we need to merge the two RDDs $Atransformed$ and $Btransformed$.\n",
        "The function $merge()$ declared below takes in $Atransformed$ and $Btransformed$ and returns an RDD that results from the union of the two input RDDs.\n",
        "</font>\n",
        "</p>\n",
        "\n",
        "<p align=\"justify\">\n",
        "<hr style=\" border:none; height:2px;\">\n",
        " <font  size=\"3\" color='#91053d'>**Complete the definition of the functions $merge()$ and execute the code**</font>\n",
        "<hr style=\" border:none; height:2px;\">\n",
        "</p>\n",
        "\n"
      ]
    },
    {
      "cell_type": "code",
      "execution_count": 68,
      "metadata": {
        "id": "I1Hi6R_kkjjs",
        "colab": {
          "base_uri": "https://localhost:8080/"
        },
        "outputId": "c920f8e3-830c-412c-a9bd-e0910dbdae18"
      },
      "outputs": [
        {
          "output_type": "stream",
          "name": "stdout",
          "text": [
            "Matrix  A\n",
            "        1.00        2.00        4.00\n",
            "        2.00        3.00       10.00\n",
            "       12.00       15.00      150.00\n",
            "Matrix  B\n",
            "        4.00        2.00        2.00      324.00       23.00\n",
            "        1.00        3.00        3.00      333.00      423.00\n",
            "       23.00       34.00       12.00       12.00        0.00\n",
            "\n",
            "********** Representation for merged ************\n",
            "\n",
            "[(0, (0, 0, 1.0)), (1, (0, 0, 2.0)), (2, (0, 0, 4.0)), (0, (0, 1, 2.0)), (1, (0, 1, 3.0)), (2, (0, 1, 10.0)), (0, (0, 2, 12.0)), (1, (0, 2, 15.0)), (2, (0, 2, 150.0)), (0, (1, 0, 4.0)), (0, (1, 1, 2.0)), (0, (1, 2, 2.0)), (0, (1, 3, 324.0)), (0, (1, 4, 23.0)), (1, (1, 0, 1.0)), (1, (1, 1, 3.0)), (1, (1, 2, 3.0)), (1, (1, 3, 333.0)), (1, (1, 4, 423.0)), (2, (1, 0, 23.0)), (2, (1, 1, 34.0)), (2, (1, 2, 12.0)), (2, (1, 3, 12.0)), (2, (1, 4, 0.0))]\n"
          ]
        }
      ],
      "source": [
        "'''\n",
        "Returns the union of Atransformed and Btransformed.\n",
        "'''\n",
        "def merge(Atransformed, Btransformed):\n",
        "\n",
        "    ################## COMPLETE HERE FOLLOWING THE INSTRUCTIONS ##################\n",
        "\n",
        "    # Put together the two input RDDs\n",
        "    R = Atransformed.union(Btransformed)\n",
        "    return R\n",
        "\n",
        "    ################## END MODIFICATIONS ##################\n",
        "\n",
        "nice(\"A\", A)\n",
        "nice(\"B\", B)\n",
        "\n",
        "merged = merge(Atransformed, Btransformed)\n",
        "\n",
        "print(\"\\n********** Representation for merged ************\\n\")\n",
        "print(merged.collect())\n",
        "\n"
      ]
    },
    {
      "cell_type": "markdown",
      "metadata": {
        "id": "QgGb5Cv9kjjs"
      },
      "source": [
        "<p>\n",
        "<font size=\"3\">\n",
        "Now we can group the values of the RDD $merged$ obtained above by their key $j$.\n",
        "We define a function $group()$ that returns an RDD obtained by grouping the values of the input RDD by their key.\n",
        "</font>\n",
        "</p>\n",
        "\n",
        "\n",
        "<p align=\"justify\">\n",
        "<hr style=\" border:none; height:2px;\">\n",
        " <font  size=\"3\" color='#91053d'>**Complete the definition of the functions $group()$ and execute the code**</font>\n",
        "<hr style=\" border:none; height:2px;\">\n",
        "</p>\n",
        "\n"
      ]
    },
    {
      "cell_type": "code",
      "execution_count": 69,
      "metadata": {
        "id": "DNNDpCLZkjjs",
        "colab": {
          "base_uri": "https://localhost:8080/"
        },
        "outputId": "ddd7d724-0a2c-41bb-8dd2-9d6023b785f7"
      },
      "outputs": [
        {
          "output_type": "stream",
          "name": "stdout",
          "text": [
            "Matrix  A\n",
            "        1.00        2.00        4.00\n",
            "        2.00        3.00       10.00\n",
            "       12.00       15.00      150.00\n",
            "Matrix  B\n",
            "        4.00        2.00        2.00      324.00       23.00\n",
            "        1.00        3.00        3.00      333.00      423.00\n",
            "       23.00       34.00       12.00       12.00        0.00\n",
            "\n",
            "********** Representation for grouped ************\n",
            "\n",
            "[\n",
            "(0,[(0, 0, 1.0)(0, 1, 2.0)(0, 2, 12.0)(1, 0, 4.0)(1, 1, 2.0)(1, 2, 2.0)(1, 3, 324.0)(1, 4, 23.0)],\n",
            "(1,[(0, 0, 2.0)(0, 1, 3.0)(0, 2, 15.0)(1, 0, 1.0)(1, 1, 3.0)(1, 2, 3.0)(1, 3, 333.0)(1, 4, 423.0)],\n",
            "(2,[(0, 0, 4.0)(0, 1, 10.0)(0, 2, 150.0)(1, 0, 23.0)(1, 1, 34.0)(1, 2, 12.0)(1, 3, 12.0)(1, 4, 0.0)],\n",
            "]\n"
          ]
        }
      ],
      "source": [
        "'''\n",
        "Returns an RDD where the values of the input RDD are grouped by their key.\n",
        "'''\n",
        "def group(merged):\n",
        "\n",
        "    ################## COMPLETE HERE FOLLOWING THE INSTRUCTIONS ##################\n",
        "\n",
        "    # Groups the element of the input RDD by key.\n",
        "    R = merged.groupByKey()\n",
        "\n",
        "    # Convert the result to a list for each key for easier processing\n",
        "    R = R.mapValues(list)\n",
        "    return R\n",
        "\n",
        "    ################## END MODIFICATIONS ##################\n",
        "\n",
        "nice(\"A\", A)\n",
        "nice(\"B\", B)\n",
        "\n",
        "grouped = group(merged)\n",
        "\n",
        "print(\"\\n********** Representation for grouped ************\\n\")\n",
        "L = grouped.collect()\n",
        "print('[')\n",
        "for l in L:\n",
        "    print(\"(\",l[0], \",\", end='', sep='')\n",
        "    print(\"[\", end='')\n",
        "    for el in l[1]:\n",
        "        print(el, end=\"\")\n",
        "    print(\"],\")\n",
        "print(']')\n",
        "\n",
        "######################################################################\n",
        "# Note that in the output, each element is (j, L), where\n",
        "# L is a list that contains all the elements in the j-th column of A\n",
        "# and all the elements in j-th row of B\n",
        "######################################################################"
      ]
    },
    {
      "cell_type": "markdown",
      "metadata": {
        "id": "sBlUq3Rkkjjt"
      },
      "source": [
        "<p>\n",
        "<font size=\"3\">\n",
        "Each element of the RDD $grouped$ obtained above is a key-value pair, where the key is the index $j$ and the value is a list $L$ containing all the triples corresponding to the elements of matrix $A$ in the $j-$th column  and the elements of matrix $B$  in the $j-$row, as follows:\n",
        "<p>\n",
        "<center>\n",
        "$(0, i, a_{i, j})\\ 0 \\leq i \\leq n-1 \\quad (1, k, b_{j, k})\\ 0 \\leq k \\leq p-1$\n",
        "</center>\n",
        "</p>\n",
        "<p>\n",
        "Remember that all triples corresponding to matrix $A$ have 0 as their first value, while those corresponding to matrix $B$ have 1.\n",
        "</p>\n",
        "<p>\n",
        "From Equation (1), you can see that the product $a_{i, j} \\cdot b_{j, k}$ contributes to the value $c_{i, k}$, for $0 \\leq i \\leq n-1$ and $0 \\leq k \\leq p-1$.\n",
        "Therefore, given the list $L$, we associate each value $a_{i, j} \\cdot b_{j, k}$  to the pair $(i, k)$.\n",
        "</p>\n",
        "<p>\n",
        "In other words, we now transform the RDD $grouped$ into an RDD where\n",
        "each element is a key-value pair, where the key is $(i, k)$ and the value is $a_{i, j} \\cdot b_{j, k}$.\n",
        "\n",
        "</p>    \n",
        "<p>\n",
        "In the code below, the function $multiplyElements()$ is given that takes in a value $(j, L)$ of the RDD $grouped$\n",
        "and returns a list, where each element is a pair $((i, k), a_{i, j} \\cdot b_{j, k})$, $0 \\leq i \\leq n-1$ and $0 \\leq k \\leq p-1$.  \n",
        "</p>\n",
        "</font>\n",
        "</p>\n",
        "\n",
        "\n",
        "<p align=\"justify\">\n",
        "<hr style=\" border:none; height:2px;\">\n",
        " <font  size=\"3\" color='#91053d'>**Complete the definition of the function $groupProducts()$ that:\n",
        "    <ul>\n",
        "      <li> Takes in the RDD $grouped$.\n",
        "      <li> Applies the function $multiplyElements()$ to each element of $grouped$.\n",
        "      <li> Returns an RDD where each element is $((i, k), a_{i, j} \\cdot b_{j, k})$, $0 \\leq i \\leq n-1$ and $0 \\leq k \\leq p-1$.\n",
        "    </ul>\n",
        "    Execute the code.**</font>\n",
        "<hr style=\" border:none; height:2px;\">\n",
        "</p>\n",
        "\n",
        "\n"
      ]
    },
    {
      "cell_type": "code",
      "execution_count": 70,
      "metadata": {
        "id": "Ac0khVwLkjjt",
        "colab": {
          "base_uri": "https://localhost:8080/"
        },
        "outputId": "23bf5534-7062-4824-a1af-53798d5aaf94"
      },
      "outputs": [
        {
          "output_type": "stream",
          "name": "stdout",
          "text": [
            "Matrix  A\n",
            "        1.00        2.00        4.00\n",
            "        2.00        3.00       10.00\n",
            "       12.00       15.00      150.00\n",
            "Matrix  B\n",
            "        4.00        2.00        2.00      324.00       23.00\n",
            "        1.00        3.00        3.00      333.00      423.00\n",
            "       23.00       34.00       12.00       12.00        0.00\n",
            "\n",
            "********** Representation for multipliedElements ************\n",
            "\n",
            "[((0, 0), 4.0), ((0, 1), 2.0), ((0, 2), 2.0), ((0, 3), 324.0), ((0, 4), 23.0), ((1, 0), 8.0), ((1, 1), 4.0), ((1, 2), 4.0), ((1, 3), 648.0), ((1, 4), 46.0), ((2, 0), 48.0), ((2, 1), 24.0), ((2, 2), 24.0), ((2, 3), 3888.0), ((2, 4), 276.0), ((0, 0), 2.0), ((0, 1), 6.0), ((0, 2), 6.0), ((0, 3), 666.0), ((0, 4), 846.0), ((1, 0), 3.0), ((1, 1), 9.0), ((1, 2), 9.0), ((1, 3), 999.0), ((1, 4), 1269.0), ((2, 0), 15.0), ((2, 1), 45.0), ((2, 2), 45.0), ((2, 3), 4995.0), ((2, 4), 6345.0), ((0, 0), 92.0), ((0, 1), 136.0), ((0, 2), 48.0), ((0, 3), 48.0), ((0, 4), 0.0), ((1, 0), 230.0), ((1, 1), 340.0), ((1, 2), 120.0), ((1, 3), 120.0), ((1, 4), 0.0), ((2, 0), 3450.0), ((2, 1), 5100.0), ((2, 2), 1800.0), ((2, 3), 1800.0), ((2, 4), 0.0)]\n"
          ]
        }
      ],
      "source": [
        "import sys\n",
        "\n",
        "'''\n",
        "Multiplies each element from matrix A with each element from\n",
        "matrix B in the list L (see description above).\n",
        "Takes in: a value (j, L) of the RDD grouped.\n",
        "Returns: a list where each element is ((i, k), a_ij * b_jk)\n",
        "'''\n",
        "def multiplyElements(value):\n",
        "    j = value[0]\n",
        "    L = value[1]\n",
        "\n",
        "    '''\n",
        "    The output key-value pairs.\n",
        "    '''\n",
        "    kv = []\n",
        "    '''\n",
        "    Maybe not necessary, we make sure that all triples with\n",
        "    the first element 0 (those from matrix A)\n",
        "    comes before any triple from matrix B.\n",
        "    '''\n",
        "    L = sorted(list(L))\n",
        "\n",
        "    '''\n",
        "    For convenience, we store the triples from matrix A\n",
        "    and those from matrix B in two separate lists\n",
        "    LA and LB.\n",
        "    '''\n",
        "    sep = 0\n",
        "    while L[sep][0] == 0:\n",
        "        sep += 1\n",
        "    LA = [L[i] for i in range(0, sep)]\n",
        "    LB = [L[i] for i in range(sep, len(L))]\n",
        "    '''\n",
        "    For each element (0, i, a_ij) in LA\n",
        "    and each element (1, k, b_jk) in LB,\n",
        "    we add the pair ((i, k), a_ij * b_jk) to kv.\n",
        "    '''\n",
        "    for a in LA:\n",
        "        for b in LB:\n",
        "            i = a[1]\n",
        "            k = b[1]\n",
        "            kv.append(((i, k), a[2]*b[2]))\n",
        "    return kv\n",
        "\n",
        "'''\n",
        "Returns an RDD where each value is a pair ((i, k), a_ij * b_jk)\n",
        "'''\n",
        "def groupProducts(grouped):\n",
        "    ################## COMPLETE HERE FOLLOWING THE INSTRUCTIONS ##################\n",
        "\n",
        "    # Apply a transformation to the input RDD to get an RDD as described in the text.\n",
        "    # Which tranformations are you going to use? map or flatMap?\n",
        "\n",
        "    # The flatMap will transform each element of the grouped RDD\n",
        "    # using the multiplyElements function, which returns a list of key-value pairs\n",
        "    R = grouped.flatMap(multiplyElements)\n",
        "    return R\n",
        "\n",
        "    ################## END MODIFICATIONS ##################\n",
        "\n",
        "nice(\"A\", A)\n",
        "nice(\"B\", B)\n",
        "\n",
        "print(\"\\n********** Representation for multipliedElements ************\\n\")\n",
        "multipliedElements = groupProducts(grouped)\n",
        "print(multipliedElements.collect())"
      ]
    },
    {
      "cell_type": "markdown",
      "metadata": {
        "id": "jma4QvOZkjju"
      },
      "source": [
        "<p>\n",
        "<font size=\"3\">\n",
        "Each element of the RDD $multipliedElements$ obtained above is $((i, k), a_{i, j} \\cdot b_{j, k})$,\n",
        "$0 \\leq i \\leq n-1$, $0 \\leq j \\leq m-1$, $0 \\leq k \\leq p-1$.\n",
        "From Equation (1), we can see that each $c_{i, k}$ is obtained by summing up the products $a_{i, j} \\cdot b_{j, k}$, $0 \\leq j \\leq m-1$.\n",
        "<p>\n",
        "Therefore, in order to obtain the matrix $C = A \\times B$, the only thing that we need to do is to sum all\n",
        "values $a_{i, j} \\cdot b_{j, k}$ associated with the same key $(i, k)$.\n",
        "</p>\n",
        "</font>\n",
        "</p>\n",
        "\n",
        "<p align=\"justify\">\n",
        "<hr style=\" border:none; height:2px;\">\n",
        " <font  size=\"3\" color='#91053d'>**Complete the definition of the function $getResult()$ that:\n",
        "    <ul>\n",
        "      <li> Takes in the RDD $multipliedElements$.\n",
        "      <li> Transforms the input RDD into one where each element is $((i, k), \\sum\\limits_{j=0}^{m-1} a_{i, j} \\cdot b_{j, k})$\n",
        "      <li> Returns the resulting RDD.\n",
        "    </ul>\n",
        "    Execute the code.We finally obtain the matrix $C$.**</font>\n",
        "<hr style=\" border:none; height:2px;\">\n",
        "</p>\n",
        "\n"
      ]
    },
    {
      "cell_type": "code",
      "execution_count": 71,
      "metadata": {
        "id": "eIFZQxOvkjju",
        "colab": {
          "base_uri": "https://localhost:8080/"
        },
        "outputId": "bca59e20-f799-4f56-bb80-5607201cd6ba"
      },
      "outputs": [
        {
          "output_type": "stream",
          "name": "stdout",
          "text": [
            "Matrix  A\n",
            "        1.00        2.00        4.00\n",
            "        2.00        3.00       10.00\n",
            "       12.00       15.00      150.00\n",
            "Matrix  B\n",
            "        4.00        2.00        2.00      324.00       23.00\n",
            "        1.00        3.00        3.00      333.00      423.00\n",
            "       23.00       34.00       12.00       12.00        0.00\n",
            "Matrix  C\n",
            "       98.00      144.00       56.00     1038.00      869.00\n",
            "      241.00      353.00      133.00     1767.00     1315.00\n",
            "     3513.00     5169.00     1869.00    10683.00     6621.00\n"
          ]
        }
      ],
      "source": [
        "def getResult(multipliedElements):\n",
        "    ################## COMPLETE HERE FOLLOWING THE INSTRUCTIONS ##################\n",
        "\n",
        "    # Apply a transformation to the input RDD so that all values with the same key are summed.\n",
        "    R = multipliedElements.reduceByKey(lambda x, y: x + y)\n",
        "    return R\n",
        "\n",
        "    ################## END MODIFICATIONS ##################\n",
        "\n",
        "nice(\"A\", A)\n",
        "nice(\"B\", B)\n",
        "C = getResult(multipliedElements)\n",
        "nice(\"C\", C)\n",
        "\n",
        "##############################################################\n",
        "#YOU SHOULD OBTAIN THE FOLLOWING MATRIX C AS RESULT\n",
        "# 98.00      144.00       56.00     1038.00      869.00\n",
        "# 241.00      353.00      133.00     1767.00     1315.00\n",
        "# 3513.00     5169.00     1869.00    10683.00     6621.00\n",
        "##############################################################\n"
      ]
    },
    {
      "cell_type": "markdown",
      "metadata": {
        "id": "Yqya2HKskjjv"
      },
      "source": [
        "<p>\n",
        "<font size=\"3\">\n",
        "We now wrap every function that we implemented above in only one function $multiply()$ that we can use any time we need to multiply two matrices.\n",
        "</font>\n",
        "</p>\n",
        "\n",
        "<p align=\"justify\">\n",
        "<hr style=\" border:none; height:2px;\">\n",
        " <font  size=\"3\" color='#91053d'>**Execute the code below to define the function $multiply()$**</font>\n",
        "<hr style=\" border:none; height:2px;\">\n",
        "</p>"
      ]
    },
    {
      "cell_type": "code",
      "execution_count": 72,
      "metadata": {
        "autoscroll": "json-false",
        "ein.tags": [
          "worksheet-0"
        ],
        "scrolled": true,
        "id": "nsGcw_3Ykjjv"
      },
      "outputs": [],
      "source": [
        "def multiply(A, B):\n",
        "    if shape(A)[1] != shape(B)[0]:\n",
        "        sys.exit(\"The number of colums of A must equal the number of rows of B\")\n",
        "    A = transformA(A)\n",
        "    B = transformB(B)\n",
        "    C = merge(A, B)\n",
        "    C = group(C)\n",
        "    C = groupProducts(C)\n",
        "    C = getResult(C)\n",
        "    return C\n"
      ]
    },
    {
      "cell_type": "markdown",
      "source": [
        "# DATASET: **Deezer Ego Nets**\n",
        "\n",
        "The dataset that we are going to use to test our implementation represents the ego-nets of Eastern European users collected from the music streaming service Deezer in February 2020. Nodes are users and edges are mutual follower relationships. The related task is the prediction of gender for the ego node in the graph.\n",
        "<br><br>\n",
        "Source: https://snap.stanford.edu/data/deezer_ego_nets.html\n",
        "<br>\n",
        "Paper: https://arxiv.org/abs/2003.04819\n",
        "<br>\n",
        "Github page: https://github.com/benedekrozemberczki/karateclub"
      ],
      "metadata": {
        "id": "r_h6SWNq3cWs"
      }
    },
    {
      "cell_type": "markdown",
      "source": [
        "In order to use the dataset, we first need to load the json file that contains the graphs. The nodes of each graph represent the users and the edges are mutual follower relationships."
      ],
      "metadata": {
        "id": "iLS_vIPO4mtO"
      }
    },
    {
      "cell_type": "code",
      "source": [
        "import json\n",
        "import networkx as nx\n",
        "import numpy as np\n",
        "\n",
        "# Load the data from the JSON file\n",
        "with open('./deezer_ego_nets/deezer_edges.json') as f:\n",
        "    data = json.load(f)\n",
        "\n",
        "# Initialize an empty directed graph\n",
        "graph = nx.DiGraph()\n",
        "\n",
        "# Add edges to the graph\n",
        "for edges in data.values():\n",
        "    graph.add_edges_from(edges)\n",
        "\n",
        "# Convert the first graph to an adjacency matrix\n",
        "deezer_matrix = nx.to_numpy_array(graph)[0]\n",
        "\n",
        "# Print the adjacency matrix\n",
        "print(deezer_matrix)"
      ],
      "metadata": {
        "colab": {
          "base_uri": "https://localhost:8080/"
        },
        "id": "8Ge4SVtw4Lq5",
        "outputId": "10560f66-a54b-4586-8e60-0dd7f8050fc1"
      },
      "execution_count": null,
      "outputs": [
        {
          "output_type": "stream",
          "name": "stdout",
          "text": [
            "[0. 1. 1. 1. 1. 1. 1. 1. 1. 1. 1. 1. 1. 1. 1. 1. 1. 1. 1. 1. 1. 1. 1. 1.\n",
            " 1. 1. 1. 1. 1. 0. 1. 1. 1. 1. 0. 1. 1. 1. 1. 1. 1. 1. 1. 1. 1. 1. 1. 1.\n",
            " 1. 1. 1. 1. 1. 1. 1. 1. 1. 1. 1. 1. 1. 0. 1. 1. 1. 1. 1. 1. 1. 1. 1. 1.\n",
            " 1. 1. 1. 1. 1. 1. 1. 1. 1. 1. 1. 0. 1. 1. 1. 1. 1. 1. 1. 1. 1. 1. 1. 1.\n",
            " 1. 1. 1. 1. 1. 1. 1. 1. 1. 1. 1. 1. 1. 1. 1. 1. 1. 1. 1. 1. 1. 1. 1. 1.\n",
            " 1. 1. 1. 1. 1. 1. 1. 1. 1. 1. 1. 1. 1. 1. 1. 1. 1. 1. 1. 0. 1. 0. 1. 1.\n",
            " 1. 0. 1. 1. 1. 1. 1. 0. 1. 0. 1. 1. 1. 0. 0. 0. 1. 1. 1. 0. 1. 1. 1. 0.\n",
            " 0. 0. 0. 1. 1. 1. 0. 0. 1. 1. 0. 0. 0. 0. 1. 0. 0. 0. 1. 0. 1. 0. 0. 0.\n",
            " 0. 0. 1. 0. 0. 0. 0. 0. 0. 1. 0. 0. 0. 0. 0. 0. 0. 1. 0. 0. 1. 0. 1. 1.\n",
            " 0. 1. 1. 0. 0. 1. 1. 0. 1. 0. 0. 0. 0. 1. 1. 0. 0. 0. 0. 0. 0. 0. 0. 0.\n",
            " 0. 0. 1. 0. 0. 0. 1. 0. 1. 0. 0. 0. 0. 0. 0. 0. 0. 1. 0. 0. 0. 0. 0. 1.\n",
            " 0. 0. 0. 0. 0. 1. 0. 0. 1. 1. 0. 0. 0. 0. 1. 0. 0. 0. 0. 0. 0. 0. 1. 1.\n",
            " 1. 1. 1. 1. 1. 0. 0. 0. 0. 0. 0. 0. 0. 0. 0. 0. 0. 0. 0. 0. 0. 0. 0. 0.\n",
            " 0. 0. 0. 0. 0. 0. 0. 0. 0. 0. 0. 0. 0. 0. 0. 0. 0. 0. 0. 1. 0. 0. 0. 0.\n",
            " 0. 0. 0. 0. 0. 0. 0. 0. 0. 0. 0. 0. 0. 0. 0. 0. 0. 0. 0. 0. 0. 0. 0. 0.\n",
            " 0. 0. 0.]\n"
          ]
        }
      ]
    },
    {
      "cell_type": "markdown",
      "source": [
        "Now, we can run the operations we implemented on the generated matrix."
      ],
      "metadata": {
        "id": "ifQ5Jzsr5m5u"
      }
    },
    {
      "cell_type": "code",
      "source": [
        "'''\n",
        "nice(\"Deezer Matrix\", deezer_matrix)\n",
        "\n",
        "S = sum(deezer_matrix, deezer_matrix)\n",
        "nice(\"Deezer Matrix + Deezer Matrix\", S)\n",
        "\n",
        "nice(\"3*Deezer Matrix\", scalarMultiply(3, deezer_matrix))\n",
        "\n",
        "M = multiply(deezer_matrix, deezer_matrix)\n",
        "nice(\"Deezer Matrix ^ 2\", scalarMultiply(3, deezer_matrix))\n",
        "'''"
      ],
      "metadata": {
        "colab": {
          "base_uri": "https://localhost:8080/",
          "height": 70
        },
        "id": "5YPiLACS6ORB",
        "outputId": "91847eb0-c12b-431a-ea82-a90cc01372e6"
      },
      "execution_count": 60,
      "outputs": [
        {
          "output_type": "execute_result",
          "data": {
            "text/plain": [
              "'\\nnice(\"Deezer Matrix\", deezer_matrix)\\n\\nS = sum(deezer_matrix, deezer_matrix)\\nnice(\"Deezer Matrix + Deezer Matrix\", S)\\n\\nnice(\"3*Deezer Matrix\", scalarMultiply(3, deezer_matrix))\\n\\nM = multiply(deezer_matrix, deezer_matrix)\\nnice(\"Deezer Matrix ^ 2\", scalarMultiply(3, deezer_matrix))\\n'"
            ],
            "application/vnd.google.colaboratory.intrinsic+json": {
              "type": "string"
            }
          },
          "metadata": {},
          "execution_count": 60
        }
      ]
    },
    {
      "cell_type": "markdown",
      "metadata": {
        "jp-MarkdownHeadingCollapsed": true,
        "tags": [],
        "id": "A-szq78zkjjv"
      },
      "source": [
        "# 6. PageRank\n",
        "<p>\n",
        "<font size=\"3\">\n",
        "One iteration of PageRank is described by the following equation:\n",
        "<p>\n",
        "<center>\n",
        "$\\pmb{v^{(k+1)}} = \\beta M \\pmb{v^{(k)}} + (1-\\beta)\\frac{\\pmb{e}}{n}\\quad\\quad (4)$\n",
        "</center>\n",
        "</p>\n",
        "where:\n",
        "<ul>\n",
        "<li> $0 \\leq \\beta \\leq 1$ is the probability that a random surfer follows a link to go from one page to another.\n",
        "<li> $1-\\beta$ is the  probability that a random surfer jumps to a random page without following a link.\n",
        "<li> $\\frac{\\pmb{e}}{n}$ is a vector with $n$ elements $1/n$.\n",
        "</ul>\n",
        "The value of $\\beta$ is usually set to $0.8$, meaning that the random surfer is much more likely to visit pages by following links. Note that the simplified version of PageRank can be obtained with $\\beta=1.0$.\n",
        "</font>\n",
        "</p>\n"
      ]
    },
    {
      "cell_type": "markdown",
      "source": [
        "# Function to test matrix is row stochastic"
      ],
      "metadata": {
        "id": "Dr2R0-5Wrw0o"
      }
    },
    {
      "cell_type": "code",
      "source": [
        "def makeRowStochastic(matrix):\n",
        "    # Sum the elements of each row\n",
        "    row_sums = matrix.map(lambda x: (x[0][0], x[1])).reduceByKey(lambda x, y: x + y)\n",
        "\n",
        "    # Modify the matrix RDD to have the same key structure as row_sums for the join\n",
        "    # Changing ((row, col), value) to (row, (col, value))\n",
        "    matrix_modified = matrix.map(lambda x: (x[0][0], (x[0][1], x[1])))\n",
        "\n",
        "    # Join the sums back with the modified matrix and normalize\n",
        "    return matrix_modified.join(row_sums).map(lambda x: ((x[0], x[1][0][0]), x[1][0][1] / x[1][1]))\n"
      ],
      "metadata": {
        "id": "N1M9kEOLLJtS"
      },
      "execution_count": 73,
      "outputs": []
    },
    {
      "cell_type": "markdown",
      "source": [
        "## Implementation of Page Rank"
      ],
      "metadata": {
        "id": "gttM4n18rrSa"
      }
    },
    {
      "cell_type": "code",
      "source": [
        "def calculate_pagerank(M, iterations=2, BETA = 0.85):\n",
        "\n",
        "  # Initialize vector c (e/n)\n",
        "  n = M.count()\n",
        "  c = sc.parallelize([(i, 1.0 / n) for i in range(n)])\n",
        "  v = sc.parallelize([(i, 1.0 / n) for i in range(n)])\n",
        "\n",
        "  # PageRank iteration\n",
        "  for i in range(iterations):  # Number of iterations\n",
        "      v = scalarMultiply(BETA, M).union(scalarMultiply(1 - BETA, c))\n",
        "      v = v.reduceByKey(lambda x, y: x + y)\n",
        "\n",
        "  # Collect and print the final ranks\n",
        "  for (link, rank) in v.collect():\n",
        "      print(f\"Page {link} has rank: {rank:.2f}\")"
      ],
      "metadata": {
        "id": "P65gs2V-H2Xo"
      },
      "execution_count": 85,
      "outputs": []
    },
    {
      "cell_type": "code",
      "source": [
        "M = loadMatrix('./data/matrix-m.txt')\n",
        "nice('M', M)\n",
        "# Joining the original matrix with the norms and normalizing\n",
        "normalized_matrix = makeRowStochastic(M)\n",
        "nice('Normalized M', normalized_matrix)\n",
        "calculate_pagerank(normalized_matrix, iterations=2)"
      ],
      "metadata": {
        "colab": {
          "base_uri": "https://localhost:8080/"
        },
        "id": "VFGOiq4Gbv5f",
        "outputId": "39ac09cf-fa86-4380-ecc8-b3cfc8e367cb"
      },
      "execution_count": 86,
      "outputs": [
        {
          "output_type": "stream",
          "name": "stdout",
          "text": [
            "Matrix  M\n",
            "        0.00        0.50        1.00        0.00\n",
            "        0.33        0.00        0.00        0.50\n",
            "        0.33        0.00        0.00        0.50\n",
            "        0.33        0.50        0.00        0.00\n",
            "Matrix  Normalized M\n",
            "        0.00        0.33        0.67        0.00\n",
            "        0.40        0.00        0.00        0.60\n",
            "        0.40        0.00        0.00        0.60\n",
            "        0.40        0.60        0.00        0.00\n",
            "Page (0, 2) has rank: 0.57\n",
            "Page (1, 3) has rank: 0.51\n",
            "Page (2, 0) has rank: 0.34\n",
            "Page 0 has rank: 0.01\n",
            "Page 6 has rank: 0.01\n",
            "Page 12 has rank: 0.01\n",
            "Page (3, 0) has rank: 0.34\n",
            "Page (3, 2) has rank: 0.00\n",
            "Page 1 has rank: 0.01\n",
            "Page 7 has rank: 0.01\n",
            "Page 13 has rank: 0.01\n",
            "Page (0, 0) has rank: 0.00\n",
            "Page (2, 2) has rank: 0.00\n",
            "Page (3, 3) has rank: 0.00\n",
            "Page 2 has rank: 0.01\n",
            "Page 8 has rank: 0.01\n",
            "Page 14 has rank: 0.01\n",
            "Page (1, 0) has rank: 0.34\n",
            "Page (1, 2) has rank: 0.00\n",
            "Page 3 has rank: 0.01\n",
            "Page 9 has rank: 0.01\n",
            "Page 15 has rank: 0.01\n",
            "Page (1, 1) has rank: 0.00\n",
            "Page (3, 1) has rank: 0.51\n",
            "Page 4 has rank: 0.01\n",
            "Page 10 has rank: 0.01\n",
            "Page (0, 1) has rank: 0.28\n",
            "Page (0, 3) has rank: 0.00\n",
            "Page (2, 1) has rank: 0.00\n",
            "Page (2, 3) has rank: 0.51\n",
            "Page 5 has rank: 0.01\n",
            "Page 11 has rank: 0.01\n"
          ]
        }
      ]
    },
    {
      "cell_type": "code",
      "source": [
        "M = loadMatrix('./data/spider-trap.txt')\n",
        "nice('M', M)\n",
        "# Joining the original matrix with the norms and normalizing\n",
        "normalized_matrix = makeRowStochastic(M)\n",
        "nice('Normalized M', normalized_matrix)\n",
        "calculate_pagerank(normalized_matrix, iterations=10)"
      ],
      "metadata": {
        "id": "7PazQ0EnNa95",
        "colab": {
          "base_uri": "https://localhost:8080/"
        },
        "outputId": "c760cfad-99a8-4b37-ae24-dbd883e29d1c"
      },
      "execution_count": 87,
      "outputs": [
        {
          "output_type": "stream",
          "name": "stdout",
          "text": [
            "Matrix  M\n",
            "        0.00        0.50        0.00        0.00\n",
            "        0.33        0.00        0.00        0.50\n",
            "        0.33        0.00        1.00        0.50\n",
            "        0.33        0.50        0.00        0.00\n",
            "Matrix  Normalized M\n",
            "        0.00        1.00        0.00        0.00\n",
            "        0.40        0.00        0.00        0.60\n",
            "        0.18        0.00        0.55        0.27\n",
            "        0.40        0.60        0.00        0.00\n",
            "Page (0, 2) has rank: 0.00\n",
            "Page (1, 3) has rank: 0.51\n",
            "Page (2, 0) has rank: 0.15\n",
            "Page 0 has rank: 0.01\n",
            "Page 6 has rank: 0.01\n",
            "Page 12 has rank: 0.01\n",
            "Page (3, 0) has rank: 0.34\n",
            "Page (3, 2) has rank: 0.00\n",
            "Page 1 has rank: 0.01\n",
            "Page 7 has rank: 0.01\n",
            "Page 13 has rank: 0.01\n",
            "Page (0, 0) has rank: 0.00\n",
            "Page (2, 2) has rank: 0.46\n",
            "Page (3, 3) has rank: 0.00\n",
            "Page 2 has rank: 0.01\n",
            "Page 8 has rank: 0.01\n",
            "Page 14 has rank: 0.01\n",
            "Page (1, 0) has rank: 0.34\n",
            "Page (1, 2) has rank: 0.00\n",
            "Page 3 has rank: 0.01\n",
            "Page 9 has rank: 0.01\n",
            "Page 15 has rank: 0.01\n",
            "Page (1, 1) has rank: 0.00\n",
            "Page (3, 1) has rank: 0.51\n",
            "Page 4 has rank: 0.01\n",
            "Page 10 has rank: 0.01\n",
            "Page (0, 1) has rank: 0.85\n",
            "Page (0, 3) has rank: 0.00\n",
            "Page (2, 1) has rank: 0.00\n",
            "Page (2, 3) has rank: 0.23\n",
            "Page 5 has rank: 0.01\n",
            "Page 11 has rank: 0.01\n"
          ]
        }
      ]
    },
    {
      "cell_type": "code",
      "source": [
        "M = loadMatrix('./data/matrix-dead.txt')\n",
        "nice('M', M)\n",
        "# Joining the original matrix with the norms and normalizing\n",
        "normalized_matrix = makeRowStochastic(M)\n",
        "nice('Normalized M', normalized_matrix)\n",
        "calculate_pagerank(normalized_matrix, iterations=10)"
      ],
      "metadata": {
        "colab": {
          "base_uri": "https://localhost:8080/"
        },
        "id": "xIwSdhCzhCTn",
        "outputId": "ff412260-fc10-4c17-c355-4e2a63e20725"
      },
      "execution_count": 88,
      "outputs": [
        {
          "output_type": "stream",
          "name": "stdout",
          "text": [
            "Matrix  M\n",
            "        0.00        0.50        0.00        0.00\n",
            "        0.33        0.00        0.00        0.50\n",
            "        0.33        0.00        0.00        0.50\n",
            "        0.33        0.50        0.00        0.00\n",
            "Matrix  Normalized M\n",
            "        0.00        1.00        0.00        0.00\n",
            "        0.40        0.00        0.00        0.60\n",
            "        0.40        0.00        0.00        0.60\n",
            "        0.40        0.60        0.00        0.00\n",
            "Page (0, 2) has rank: 0.00\n",
            "Page (1, 3) has rank: 0.51\n",
            "Page (2, 0) has rank: 0.34\n",
            "Page 0 has rank: 0.01\n",
            "Page 6 has rank: 0.01\n",
            "Page 12 has rank: 0.01\n",
            "Page (3, 0) has rank: 0.34\n",
            "Page (3, 2) has rank: 0.00\n",
            "Page 1 has rank: 0.01\n",
            "Page 7 has rank: 0.01\n",
            "Page 13 has rank: 0.01\n",
            "Page (0, 0) has rank: 0.00\n",
            "Page (2, 2) has rank: 0.00\n",
            "Page (3, 3) has rank: 0.00\n",
            "Page 2 has rank: 0.01\n",
            "Page 8 has rank: 0.01\n",
            "Page 14 has rank: 0.01\n",
            "Page (1, 0) has rank: 0.34\n",
            "Page (1, 2) has rank: 0.00\n",
            "Page 3 has rank: 0.01\n",
            "Page 9 has rank: 0.01\n",
            "Page 15 has rank: 0.01\n",
            "Page (1, 1) has rank: 0.00\n",
            "Page (3, 1) has rank: 0.51\n",
            "Page 4 has rank: 0.01\n",
            "Page 10 has rank: 0.01\n",
            "Page (0, 1) has rank: 0.85\n",
            "Page (0, 3) has rank: 0.00\n",
            "Page (2, 1) has rank: 0.00\n",
            "Page (2, 3) has rank: 0.51\n",
            "Page 5 has rank: 0.01\n",
            "Page 11 has rank: 0.01\n"
          ]
        }
      ]
    }
  ],
  "metadata": {
    "anaconda-cloud": {},
    "kernelspec": {
      "display_name": "Python 3 (ipykernel)",
      "language": "python",
      "name": "python3"
    },
    "language_info": {
      "codemirror_mode": {
        "name": "ipython",
        "version": 3
      },
      "file_extension": ".py",
      "mimetype": "text/x-python",
      "name": "python",
      "nbconvert_exporter": "python",
      "pygments_lexer": "ipython3",
      "version": "3.10.6"
    },
    "name": "BE4-Spark.ipynb",
    "colab": {
      "provenance": []
    }
  },
  "nbformat": 4,
  "nbformat_minor": 0
}